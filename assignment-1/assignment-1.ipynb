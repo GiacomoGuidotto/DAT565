{
 "cells": [
  {
   "cell_type": "markdown",
   "id": "461513a0",
   "metadata": {},
   "source": [
    "# Problem 1\n",
    "\n",
    "## Setup: importing libraries and reading the dataset\n"
   ]
  },
  {
   "cell_type": "code",
   "execution_count": 73,
   "id": "fbc121e30a2defb3",
   "metadata": {
    "ExecuteTime": {
     "end_time": "2024-09-07T13:44:14.363141Z",
     "start_time": "2024-09-07T13:44:14.357773Z"
    }
   },
   "outputs": [],
   "source": [
    "import pandas as pd\n",
    "import matplotlib.pyplot as plt"
   ]
  },
  {
   "cell_type": "code",
   "execution_count": 74,
   "id": "1226b2ac5cf82059",
   "metadata": {
    "ExecuteTime": {
     "end_time": "2024-09-07T13:44:14.395814Z",
     "start_time": "2024-09-07T13:44:14.373188Z"
    }
   },
   "outputs": [
    {
     "data": {
      "text/html": [
       "<div>\n",
       "<style scoped>\n",
       "    .dataframe tbody tr th:only-of-type {\n",
       "        vertical-align: middle;\n",
       "    }\n",
       "\n",
       "    .dataframe tbody tr th {\n",
       "        vertical-align: top;\n",
       "    }\n",
       "\n",
       "    .dataframe thead th {\n",
       "        text-align: right;\n",
       "    }\n",
       "</style>\n",
       "<table border=\"1\" class=\"dataframe\">\n",
       "  <thead>\n",
       "    <tr style=\"text-align: right;\">\n",
       "      <th></th>\n",
       "      <th>age</th>\n",
       "      <th>sex</th>\n",
       "      <th>1860</th>\n",
       "      <th>1861</th>\n",
       "      <th>1862</th>\n",
       "      <th>1863</th>\n",
       "      <th>1864</th>\n",
       "      <th>1865</th>\n",
       "      <th>1866</th>\n",
       "      <th>1867</th>\n",
       "      <th>...</th>\n",
       "      <th>2013</th>\n",
       "      <th>2014</th>\n",
       "      <th>2015</th>\n",
       "      <th>2016</th>\n",
       "      <th>2017</th>\n",
       "      <th>2018</th>\n",
       "      <th>2019</th>\n",
       "      <th>2020</th>\n",
       "      <th>2021</th>\n",
       "      <th>2022</th>\n",
       "    </tr>\n",
       "  </thead>\n",
       "  <tbody>\n",
       "    <tr>\n",
       "      <th>0</th>\n",
       "      <td>0</td>\n",
       "      <td>men</td>\n",
       "      <td>60589</td>\n",
       "      <td>59797</td>\n",
       "      <td>62371</td>\n",
       "      <td>61515</td>\n",
       "      <td>61931</td>\n",
       "      <td>60998</td>\n",
       "      <td>63036</td>\n",
       "      <td>58645</td>\n",
       "      <td>...</td>\n",
       "      <td>58649</td>\n",
       "      <td>59584</td>\n",
       "      <td>59994</td>\n",
       "      <td>61005</td>\n",
       "      <td>59899</td>\n",
       "      <td>60032</td>\n",
       "      <td>59476</td>\n",
       "      <td>58485</td>\n",
       "      <td>58692</td>\n",
       "      <td>54095</td>\n",
       "    </tr>\n",
       "    <tr>\n",
       "      <th>1</th>\n",
       "      <td>0</td>\n",
       "      <td>women</td>\n",
       "      <td>58837</td>\n",
       "      <td>58136</td>\n",
       "      <td>60041</td>\n",
       "      <td>59384</td>\n",
       "      <td>60100</td>\n",
       "      <td>59622</td>\n",
       "      <td>60874</td>\n",
       "      <td>56586</td>\n",
       "      <td>...</td>\n",
       "      <td>55359</td>\n",
       "      <td>56296</td>\n",
       "      <td>55884</td>\n",
       "      <td>58018</td>\n",
       "      <td>56715</td>\n",
       "      <td>56807</td>\n",
       "      <td>55907</td>\n",
       "      <td>55104</td>\n",
       "      <td>55971</td>\n",
       "      <td>51091</td>\n",
       "    </tr>\n",
       "    <tr>\n",
       "      <th>2</th>\n",
       "      <td>1</td>\n",
       "      <td>men</td>\n",
       "      <td>56001</td>\n",
       "      <td>54544</td>\n",
       "      <td>52933</td>\n",
       "      <td>55776</td>\n",
       "      <td>57346</td>\n",
       "      <td>57776</td>\n",
       "      <td>57017</td>\n",
       "      <td>59071</td>\n",
       "      <td>...</td>\n",
       "      <td>59039</td>\n",
       "      <td>59489</td>\n",
       "      <td>60640</td>\n",
       "      <td>61352</td>\n",
       "      <td>62531</td>\n",
       "      <td>60973</td>\n",
       "      <td>60993</td>\n",
       "      <td>60058</td>\n",
       "      <td>59195</td>\n",
       "      <td>59411</td>\n",
       "    </tr>\n",
       "    <tr>\n",
       "      <th>3</th>\n",
       "      <td>1</td>\n",
       "      <td>women</td>\n",
       "      <td>54833</td>\n",
       "      <td>53762</td>\n",
       "      <td>52282</td>\n",
       "      <td>54500</td>\n",
       "      <td>55823</td>\n",
       "      <td>56641</td>\n",
       "      <td>56263</td>\n",
       "      <td>57539</td>\n",
       "      <td>...</td>\n",
       "      <td>55884</td>\n",
       "      <td>56083</td>\n",
       "      <td>57292</td>\n",
       "      <td>57216</td>\n",
       "      <td>59444</td>\n",
       "      <td>57789</td>\n",
       "      <td>57783</td>\n",
       "      <td>56533</td>\n",
       "      <td>55855</td>\n",
       "      <td>56712</td>\n",
       "    </tr>\n",
       "    <tr>\n",
       "      <th>4</th>\n",
       "      <td>2</td>\n",
       "      <td>men</td>\n",
       "      <td>52502</td>\n",
       "      <td>54062</td>\n",
       "      <td>51613</td>\n",
       "      <td>50710</td>\n",
       "      <td>53743</td>\n",
       "      <td>55227</td>\n",
       "      <td>55696</td>\n",
       "      <td>55254</td>\n",
       "      <td>...</td>\n",
       "      <td>58721</td>\n",
       "      <td>59807</td>\n",
       "      <td>60292</td>\n",
       "      <td>61817</td>\n",
       "      <td>62258</td>\n",
       "      <td>63361</td>\n",
       "      <td>61598</td>\n",
       "      <td>61348</td>\n",
       "      <td>60596</td>\n",
       "      <td>59723</td>\n",
       "    </tr>\n",
       "    <tr>\n",
       "      <th>...</th>\n",
       "      <td>...</td>\n",
       "      <td>...</td>\n",
       "      <td>...</td>\n",
       "      <td>...</td>\n",
       "      <td>...</td>\n",
       "      <td>...</td>\n",
       "      <td>...</td>\n",
       "      <td>...</td>\n",
       "      <td>...</td>\n",
       "      <td>...</td>\n",
       "      <td>...</td>\n",
       "      <td>...</td>\n",
       "      <td>...</td>\n",
       "      <td>...</td>\n",
       "      <td>...</td>\n",
       "      <td>...</td>\n",
       "      <td>...</td>\n",
       "      <td>...</td>\n",
       "      <td>...</td>\n",
       "      <td>...</td>\n",
       "      <td>...</td>\n",
       "    </tr>\n",
       "    <tr>\n",
       "      <th>217</th>\n",
       "      <td>108</td>\n",
       "      <td>women</td>\n",
       "      <td>0</td>\n",
       "      <td>0</td>\n",
       "      <td>0</td>\n",
       "      <td>0</td>\n",
       "      <td>0</td>\n",
       "      <td>0</td>\n",
       "      <td>0</td>\n",
       "      <td>0</td>\n",
       "      <td>...</td>\n",
       "      <td>6</td>\n",
       "      <td>8</td>\n",
       "      <td>5</td>\n",
       "      <td>3</td>\n",
       "      <td>3</td>\n",
       "      <td>10</td>\n",
       "      <td>7</td>\n",
       "      <td>9</td>\n",
       "      <td>4</td>\n",
       "      <td>8</td>\n",
       "    </tr>\n",
       "    <tr>\n",
       "      <th>218</th>\n",
       "      <td>109</td>\n",
       "      <td>men</td>\n",
       "      <td>0</td>\n",
       "      <td>0</td>\n",
       "      <td>0</td>\n",
       "      <td>0</td>\n",
       "      <td>0</td>\n",
       "      <td>0</td>\n",
       "      <td>0</td>\n",
       "      <td>0</td>\n",
       "      <td>...</td>\n",
       "      <td>0</td>\n",
       "      <td>0</td>\n",
       "      <td>0</td>\n",
       "      <td>0</td>\n",
       "      <td>3</td>\n",
       "      <td>0</td>\n",
       "      <td>0</td>\n",
       "      <td>0</td>\n",
       "      <td>0</td>\n",
       "      <td>0</td>\n",
       "    </tr>\n",
       "    <tr>\n",
       "      <th>219</th>\n",
       "      <td>109</td>\n",
       "      <td>women</td>\n",
       "      <td>0</td>\n",
       "      <td>0</td>\n",
       "      <td>0</td>\n",
       "      <td>0</td>\n",
       "      <td>0</td>\n",
       "      <td>0</td>\n",
       "      <td>0</td>\n",
       "      <td>0</td>\n",
       "      <td>...</td>\n",
       "      <td>4</td>\n",
       "      <td>2</td>\n",
       "      <td>6</td>\n",
       "      <td>3</td>\n",
       "      <td>3</td>\n",
       "      <td>1</td>\n",
       "      <td>6</td>\n",
       "      <td>2</td>\n",
       "      <td>6</td>\n",
       "      <td>1</td>\n",
       "    </tr>\n",
       "    <tr>\n",
       "      <th>220</th>\n",
       "      <td>110+</td>\n",
       "      <td>men</td>\n",
       "      <td>0</td>\n",
       "      <td>0</td>\n",
       "      <td>0</td>\n",
       "      <td>0</td>\n",
       "      <td>0</td>\n",
       "      <td>0</td>\n",
       "      <td>0</td>\n",
       "      <td>0</td>\n",
       "      <td>...</td>\n",
       "      <td>1</td>\n",
       "      <td>1</td>\n",
       "      <td>1</td>\n",
       "      <td>1</td>\n",
       "      <td>0</td>\n",
       "      <td>3</td>\n",
       "      <td>0</td>\n",
       "      <td>0</td>\n",
       "      <td>0</td>\n",
       "      <td>0</td>\n",
       "    </tr>\n",
       "    <tr>\n",
       "      <th>221</th>\n",
       "      <td>110+</td>\n",
       "      <td>women</td>\n",
       "      <td>0</td>\n",
       "      <td>0</td>\n",
       "      <td>0</td>\n",
       "      <td>0</td>\n",
       "      <td>0</td>\n",
       "      <td>0</td>\n",
       "      <td>0</td>\n",
       "      <td>0</td>\n",
       "      <td>...</td>\n",
       "      <td>2</td>\n",
       "      <td>4</td>\n",
       "      <td>2</td>\n",
       "      <td>5</td>\n",
       "      <td>2</td>\n",
       "      <td>2</td>\n",
       "      <td>1</td>\n",
       "      <td>2</td>\n",
       "      <td>1</td>\n",
       "      <td>3</td>\n",
       "    </tr>\n",
       "  </tbody>\n",
       "</table>\n",
       "<p>222 rows × 165 columns</p>\n",
       "</div>"
      ],
      "text/plain": [
       "      age    sex   1860   1861   1862   1863   1864   1865   1866   1867  ...  \\\n",
       "0       0    men  60589  59797  62371  61515  61931  60998  63036  58645  ...   \n",
       "1       0  women  58837  58136  60041  59384  60100  59622  60874  56586  ...   \n",
       "2       1    men  56001  54544  52933  55776  57346  57776  57017  59071  ...   \n",
       "3       1  women  54833  53762  52282  54500  55823  56641  56263  57539  ...   \n",
       "4       2    men  52502  54062  51613  50710  53743  55227  55696  55254  ...   \n",
       "..    ...    ...    ...    ...    ...    ...    ...    ...    ...    ...  ...   \n",
       "217   108  women      0      0      0      0      0      0      0      0  ...   \n",
       "218   109    men      0      0      0      0      0      0      0      0  ...   \n",
       "219   109  women      0      0      0      0      0      0      0      0  ...   \n",
       "220  110+    men      0      0      0      0      0      0      0      0  ...   \n",
       "221  110+  women      0      0      0      0      0      0      0      0  ...   \n",
       "\n",
       "      2013   2014   2015   2016   2017   2018   2019   2020   2021   2022  \n",
       "0    58649  59584  59994  61005  59899  60032  59476  58485  58692  54095  \n",
       "1    55359  56296  55884  58018  56715  56807  55907  55104  55971  51091  \n",
       "2    59039  59489  60640  61352  62531  60973  60993  60058  59195  59411  \n",
       "3    55884  56083  57292  57216  59444  57789  57783  56533  55855  56712  \n",
       "4    58721  59807  60292  61817  62258  63361  61598  61348  60596  59723  \n",
       "..     ...    ...    ...    ...    ...    ...    ...    ...    ...    ...  \n",
       "217      6      8      5      3      3     10      7      9      4      8  \n",
       "218      0      0      0      0      3      0      0      0      0      0  \n",
       "219      4      2      6      3      3      1      6      2      6      1  \n",
       "220      1      1      1      1      0      3      0      0      0      0  \n",
       "221      2      4      2      5      2      2      1      2      1      3  \n",
       "\n",
       "[222 rows x 165 columns]"
      ]
     },
     "execution_count": 74,
     "metadata": {},
     "output_type": "execute_result"
    }
   ],
   "source": [
    "df = pd.read_csv(\"../data/swedish_population_by_year_and_sex_1860-2022.csv\")\n",
    "df"
   ]
  },
  {
   "cell_type": "markdown",
   "id": "41ecf159",
   "metadata": {},
   "source": [
    "## Part I: Dependency ratio\n",
    "\n",
    "Creating a new dataframe containing the number of people of a specific age for a specific year:"
   ]
  },
  {
   "cell_type": "code",
   "execution_count": 75,
   "id": "9c62918b740c0692",
   "metadata": {
    "ExecuteTime": {
     "end_time": "2024-09-07T13:44:14.451764Z",
     "start_time": "2024-09-07T13:44:14.446258Z"
    }
   },
   "outputs": [],
   "source": [
    "age_df = df.drop(columns='sex').groupby(\"age\").sum()"
   ]
  },
  {
   "cell_type": "markdown",
   "id": "4fa31c85685614e6",
   "metadata": {},
   "source": [
    "Generating a support vector with all the ages in the dataset:"
   ]
  },
  {
   "cell_type": "code",
   "execution_count": 76,
   "id": "4c473ccd218ee627",
   "metadata": {
    "ExecuteTime": {
     "end_time": "2024-09-07T13:44:14.562491Z",
     "start_time": "2024-09-07T13:44:14.558904Z"
    }
   },
   "outputs": [],
   "source": [
    "age = pd.to_numeric(age_df.index.str.replace(\"+\", \"\"))"
   ]
  },
  {
   "cell_type": "markdown",
   "id": "7ac08d954f651ff1",
   "metadata": {},
   "source": [
    "Calculating the number of children by summing every age under 15 years old:"
   ]
  },
  {
   "cell_type": "code",
   "execution_count": 77,
   "id": "dec7e1656ee98f69",
   "metadata": {
    "ExecuteTime": {
     "end_time": "2024-09-07T13:44:14.619373Z",
     "start_time": "2024-09-07T13:44:14.615579Z"
    }
   },
   "outputs": [],
   "source": [
    "children_count = age_df[age <= 14].sum()"
   ]
  },
  {
   "cell_type": "markdown",
   "id": "84fa1c61d08f21",
   "metadata": {},
   "source": [
    "Doing the same thing for the elderly:"
   ]
  },
  {
   "cell_type": "code",
   "execution_count": 78,
   "id": "a093db556b89427b",
   "metadata": {
    "ExecuteTime": {
     "end_time": "2024-09-07T13:44:14.689340Z",
     "start_time": "2024-09-07T13:44:14.685386Z"
    }
   },
   "outputs": [],
   "source": [
    "elderly_count = age_df[age >= 65].sum()"
   ]
  },
  {
   "cell_type": "markdown",
   "id": "3548cdac191c59a3",
   "metadata": {},
   "source": [
    "And for the labor force:"
   ]
  },
  {
   "cell_type": "code",
   "execution_count": 79,
   "id": "3fcdad488f55b981",
   "metadata": {
    "ExecuteTime": {
     "end_time": "2024-09-07T13:44:15.290702Z",
     "start_time": "2024-09-07T13:44:15.285782Z"
    }
   },
   "outputs": [],
   "source": [
    "labor_count = age_df[(age >= 15) & (age <= 64)].sum()"
   ]
  },
  {
   "cell_type": "markdown",
   "id": "9c6c8a6ff295e2d1",
   "metadata": {},
   "source": [
    "Calculating the dependency ratio as: \n",
    "$$\\frac{\\text{children\\_count} + \\text{elderly\\_count}}{\\text{labor\\_count}}$$ "
   ]
  },
  {
   "cell_type": "code",
   "execution_count": 80,
   "id": "a15a45d95b5fce27",
   "metadata": {
    "ExecuteTime": {
     "end_time": "2024-09-07T13:44:15.303881Z",
     "start_time": "2024-09-07T13:44:15.300719Z"
    }
   },
   "outputs": [],
   "source": [
    "dependent_count = children_count + elderly_count\n",
    "dependency_ratio = dependent_count / labor_count"
   ]
  },
  {
   "cell_type": "markdown",
   "id": "cd152a6746f87373",
   "metadata": {},
   "source": [
    "Plotting the ratio:"
   ]
  },
  {
   "cell_type": "code",
   "execution_count": 81,
   "id": "34d7cc2bd2320273",
   "metadata": {
    "ExecuteTime": {
     "end_time": "2024-09-07T13:44:15.469972Z",
     "start_time": "2024-09-07T13:44:15.347358Z"
    }
   },
   "outputs": [
    {
     "data": {
      "image/png": "[encoded data removed]",
      "text/plain": [
       "<Figure size 640x480 with 1 Axes>"
      ]
     },
     "metadata": {},
     "output_type": "display_data"
    }
   ],
   "source": [
    "_, ax = plt.subplots()\n",
    "ax.plot(dependency_ratio, label=\"Dependency ratio\")\n",
    "ax.set_xlabel('Year')\n",
    "ax.set_ylabel('Dependency Ratio')\n",
    "ax.set_xticks(range(0, len(dependency_ratio), 20))\n",
    "ax.legend()\n",
    "\n",
    "plt.savefig(\"dependency_ratio.png\")"
   ]
  },
  {
   "cell_type": "markdown",
   "id": "30c3f84516d9576f",
   "metadata": {},
   "source": [
    "## Part II: Population fractions\n",
    "\n",
    "Calculating the total amount of a particular age group relative to the total population:\n"
   ]
  },
  {
   "cell_type": "code",
   "execution_count": 82,
   "id": "71c6bcb4",
   "metadata": {
    "ExecuteTime": {
     "end_time": "2024-09-07T13:44:15.492896Z",
     "start_time": "2024-09-07T13:44:15.489241Z"
    }
   },
   "outputs": [],
   "source": [
    "total_count = age_df.sum()\n",
    "children_fraction = children_count / total_count\n",
    "elderly_fraction = elderly_count / total_count\n",
    "dependent_fraction = dependent_count / total_count"
   ]
  },
  {
   "cell_type": "markdown",
   "id": "1786b61374854bb7",
   "metadata": {},
   "source": [
    "Plotting the fractions:"
   ]
  },
  {
   "cell_type": "code",
   "execution_count": 83,
   "id": "78184f8c",
   "metadata": {
    "ExecuteTime": {
     "end_time": "2024-09-07T13:44:15.671462Z",
     "start_time": "2024-09-07T13:44:15.516723Z"
    }
   },
   "outputs": [
    {
     "data": {
      "image/png": "[encoded data removed]",
      "text/plain": [
       "<Figure size 640x480 with 1 Axes>"
      ]
     },
     "metadata": {},
     "output_type": "display_data"
    }
   ],
   "source": [
    "_, ax = plt.subplots()\n",
    "ax.plot(children_fraction, label=\"Children\")\n",
    "ax.plot(elderly_fraction, label=\"Elderly\")\n",
    "ax.plot(dependent_fraction, label=\"Dependent Population\")\n",
    "ax.set_title('Population Fractions')\n",
    "ax.set_xlabel('Year')\n",
    "ax.set_ylabel('Fraction')\n",
    "ax.set_xticks(range(0, len(children_fraction), 20))\n",
    "ax.legend()\n",
    "\n",
    "plt.savefig(\"population_fractions.png\")"
   ]
  }
 ],
 "metadata": {
  "kernelspec": {
   "display_name": "Python 3",
   "language": "python",
   "name": "python3"
  },
  "language_info": {
   "codemirror_mode": {
    "name": "ipython",
    "version": 3
   },
   "file_extension": ".py",
   "mimetype": "text/x-python",
   "name": "python",
   "nbconvert_exporter": "python",
   "pygments_lexer": "ipython3",
   "version": "3.11.7"
  }
 },
 "nbformat": 4,
 "nbformat_minor": 5
}
